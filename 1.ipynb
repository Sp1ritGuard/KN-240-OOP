{
 "cells": [
  {
   "cell_type": "markdown",
   "metadata": {},
   "source": [
    "Моя перша програма"
   ]
  },
  {
   "cell_type": "markdown",
   "metadata": {},
   "source": [
    "імпортую бібліотеки"
   ]
  },
  {
   "cell_type": "code",
   "execution_count": 1,
   "metadata": {},
   "outputs": [],
   "source": [
    "from datetime import datetime"
   ]
  },
  {
   "cell_type": "markdown",
   "metadata": {},
   "source": [
    "роблю змінні"
   ]
  },
  {
   "cell_type": "code",
   "execution_count": 2,
   "metadata": {},
   "outputs": [],
   "source": [
    "name = \"Nazar\"\n",
    "location = \"Львів\""
   ]
  },
  {
   "cell_type": "markdown",
   "metadata": {},
   "source": [
    "виводжу стрічку"
   ]
  },
  {
   "cell_type": "code",
   "execution_count": 3,
   "metadata": {},
   "outputs": [
    {
     "name": "stdout",
     "output_type": "stream",
     "text": [
      "Nazar start programming at 2024-10-21 22:20:31.960568. Львів is the best city!\n"
     ]
    }
   ],
   "source": [
    "print(f\"{name} start programming at {datetime.now()}. {location} is the best city!\")"
   ]
  }
 ],
 "metadata": {
  "kernelspec": {
   "display_name": "Python 3",
   "language": "python",
   "name": "python3"
  },
  "language_info": {
   "codemirror_mode": {
    "name": "ipython",
    "version": 3
   },
   "file_extension": ".py",
   "mimetype": "text/x-python",
   "name": "python",
   "nbconvert_exporter": "python",
   "pygments_lexer": "ipython3",
   "version": "3.13.0rc2"
  }
 },
 "nbformat": 4,
 "nbformat_minor": 2
}
